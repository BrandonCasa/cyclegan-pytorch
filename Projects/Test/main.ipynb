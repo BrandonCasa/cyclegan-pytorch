{
 "cells": [
  {
   "cell_type": "markdown",
   "metadata": {},
   "source": [
    "# Set up TensorFlow"
   ]
  },
  {
   "cell_type": "markdown",
   "metadata": {},
   "source": [
    "Import TensorFlow into your program to get started:"
   ]
  },
  {
   "cell_type": "code",
   "execution_count": 2,
   "metadata": {},
   "outputs": [
    {
     "name": "stderr",
     "output_type": "stream",
     "text": [
      "2022-11-18 21:42:06.897867: I tensorflow/core/platform/cpu_feature_guard.cc:194] This TensorFlow binary is optimized with oneAPI Deep Neural Network Library (oneDNN) to use the following CPU instructions in performance-critical operations:  SSE3 SSE4.1 SSE4.2 AVX\n",
      "To enable them in other operations, rebuild TensorFlow with the appropriate compiler flags.\n"
     ]
    },
    {
     "name": "stdout",
     "output_type": "stream",
     "text": [
      "2.10.0\n",
      "Num GPUs Available:  1\n"
     ]
    },
    {
     "name": "stderr",
     "output_type": "stream",
     "text": [
      "2022-11-18 21:42:08.724966: I tensorflow/stream_executor/cuda/cuda_gpu_executor.cc:982] could not open file to read NUMA node: /sys/bus/pci/devices/0000:01:00.0/numa_node\n",
      "Your kernel may have been built without NUMA support.\n",
      "2022-11-18 21:42:08.731098: I tensorflow/stream_executor/cuda/cuda_gpu_executor.cc:982] could not open file to read NUMA node: /sys/bus/pci/devices/0000:01:00.0/numa_node\n",
      "Your kernel may have been built without NUMA support.\n",
      "2022-11-18 21:42:08.731264: I tensorflow/stream_executor/cuda/cuda_gpu_executor.cc:982] could not open file to read NUMA node: /sys/bus/pci/devices/0000:01:00.0/numa_node\n",
      "Your kernel may have been built without NUMA support.\n"
     ]
    }
   ],
   "source": [
    "import os\n",
    "os.environ[\"TF_ENABLE_ONEDNN_OPTS\"] = \"0\"\n",
    "#  TensorFlow and tf.keras\n",
    "import tensorflow as tf\n",
    "\n",
    "# Helper libraries\n",
    "import numpy as np\n",
    "%matplotlib widget\n",
    "import matplotlib.pyplot as plt\n",
    "\n",
    "print(tf.__version__)\n",
    "print(\"Num GPUs Available: \", len(tf.config.list_physical_devices('GPU')))\n",
    "# tf.debugging.set_log_device_placement(True)"
   ]
  },
  {
   "cell_type": "markdown",
   "metadata": {},
   "source": [
    "# Load a dataset"
   ]
  },
  {
   "cell_type": "markdown",
   "metadata": {},
   "source": [
    "Load and prepare the MNIST dataset. Convert the sample data from integers to floating-point numbers:"
   ]
  },
  {
   "cell_type": "code",
   "execution_count": 3,
   "metadata": {
    "tags": []
   },
   "outputs": [],
   "source": [
    "mnist = tf.keras.datasets.mnist\n",
    "\n",
    "(x_train, y_train), (x_test, y_test) = mnist.load_data()\n",
    "x_train, x_test = x_train / 255.0, x_test / 255.0"
   ]
  },
  {
   "cell_type": "markdown",
   "metadata": {},
   "source": [
    "# Build a machine learning model"
   ]
  },
  {
   "cell_type": "markdown",
   "metadata": {},
   "source": [
    "Build a tf.keras.Sequential model by stacking layers."
   ]
  },
  {
   "cell_type": "code",
   "execution_count": 4,
   "metadata": {},
   "outputs": [
    {
     "name": "stderr",
     "output_type": "stream",
     "text": [
      "2022-11-18 21:42:21.715458: I tensorflow/core/platform/cpu_feature_guard.cc:194] This TensorFlow binary is optimized with oneAPI Deep Neural Network Library (oneDNN) to use the following CPU instructions in performance-critical operations:  SSE3 SSE4.1 SSE4.2 AVX\n",
      "To enable them in other operations, rebuild TensorFlow with the appropriate compiler flags.\n",
      "2022-11-18 21:42:21.717188: I tensorflow/stream_executor/cuda/cuda_gpu_executor.cc:982] could not open file to read NUMA node: /sys/bus/pci/devices/0000:01:00.0/numa_node\n",
      "Your kernel may have been built without NUMA support.\n",
      "2022-11-18 21:42:21.717589: I tensorflow/stream_executor/cuda/cuda_gpu_executor.cc:982] could not open file to read NUMA node: /sys/bus/pci/devices/0000:01:00.0/numa_node\n",
      "Your kernel may have been built without NUMA support.\n",
      "2022-11-18 21:42:21.717845: I tensorflow/stream_executor/cuda/cuda_gpu_executor.cc:982] could not open file to read NUMA node: /sys/bus/pci/devices/0000:01:00.0/numa_node\n",
      "Your kernel may have been built without NUMA support.\n",
      "2022-11-18 21:42:22.666940: I tensorflow/stream_executor/cuda/cuda_gpu_executor.cc:982] could not open file to read NUMA node: /sys/bus/pci/devices/0000:01:00.0/numa_node\n",
      "Your kernel may have been built without NUMA support.\n",
      "2022-11-18 21:42:22.667409: I tensorflow/stream_executor/cuda/cuda_gpu_executor.cc:982] could not open file to read NUMA node: /sys/bus/pci/devices/0000:01:00.0/numa_node\n",
      "Your kernel may have been built without NUMA support.\n",
      "2022-11-18 21:42:22.667426: I tensorflow/core/common_runtime/gpu/gpu_device.cc:1721] Could not identify NUMA node of platform GPU id 0, defaulting to 0.  Your kernel may not have been built with NUMA support.\n",
      "2022-11-18 21:42:22.667573: I tensorflow/stream_executor/cuda/cuda_gpu_executor.cc:982] could not open file to read NUMA node: /sys/bus/pci/devices/0000:01:00.0/numa_node\n",
      "Your kernel may have been built without NUMA support.\n",
      "2022-11-18 21:42:22.667608: I tensorflow/core/common_runtime/gpu/gpu_device.cc:1637] Created device /job:localhost/replica:0/task:0/device:GPU:0 with 5175 MB memory:  -> device: 0, name: NVIDIA GeForce RTX 3070, pci bus id: 0000:01:00.0, compute capability: 8.6\n"
     ]
    }
   ],
   "source": [
    "model = tf.keras.models.Sequential([\n",
    "  tf.keras.layers.Flatten(input_shape=(28, 28)),\n",
    "  tf.keras.layers.Dense(128, activation='relu'),\n",
    "  tf.keras.layers.Dropout(0.2),\n",
    "  tf.keras.layers.Dense(10)\n",
    "])"
   ]
  },
  {
   "cell_type": "markdown",
   "metadata": {},
   "source": [
    "For each example, the model returns a vector of logits or log-odds scores, one for each class."
   ]
  },
  {
   "cell_type": "code",
   "execution_count": 5,
   "metadata": {},
   "outputs": [
    {
     "name": "stderr",
     "output_type": "stream",
     "text": [
      "2022-11-18 21:42:25.010878: I tensorflow/stream_executor/cuda/cuda_blas.cc:1633] TensorFloat-32 will be used for the matrix multiplication. This will only be logged once.\n"
     ]
    },
    {
     "data": {
      "text/plain": [
       "array([[ 0.2226629 ,  0.39887452,  0.3395915 ,  0.6637764 ,  0.42544332,\n",
       "         0.52963567,  0.71809846,  0.22063702, -0.551983  , -0.09879568]],\n",
       "      dtype=float32)"
      ]
     },
     "execution_count": 5,
     "metadata": {},
     "output_type": "execute_result"
    }
   ],
   "source": [
    "predictions = model(x_train[:1]).numpy()\n",
    "predictions"
   ]
  },
  {
   "cell_type": "markdown",
   "metadata": {},
   "source": [
    "The tf.nn.softmax function converts these logits to probabilities for each class:"
   ]
  },
  {
   "cell_type": "code",
   "execution_count": 6,
   "metadata": {},
   "outputs": [
    {
     "data": {
      "text/plain": [
       "array([[0.08864917, 0.10573103, 0.09964515, 0.13779956, 0.10857782,\n",
       "        0.12050117, 0.14549217, 0.08846976, 0.04085547, 0.06427868]],\n",
       "      dtype=float32)"
      ]
     },
     "execution_count": 6,
     "metadata": {},
     "output_type": "execute_result"
    }
   ],
   "source": [
    "tf.nn.softmax(predictions).numpy()"
   ]
  },
  {
   "cell_type": "markdown",
   "metadata": {},
   "source": [
    "Define a loss function for training using losses.SparseCategoricalCrossentropy, which takes a vector of logits and a True index and returns a scalar loss for each example."
   ]
  },
  {
   "cell_type": "code",
   "execution_count": 7,
   "metadata": {},
   "outputs": [],
   "source": [
    "loss_fn = tf.keras.losses.SparseCategoricalCrossentropy(from_logits=True)"
   ]
  },
  {
   "cell_type": "markdown",
   "metadata": {},
   "source": [
    "This loss is equal to the negative log probability of the true class: The loss is zero if the model is sure of the correct class.\n",
    "\n",
    "This untrained model gives probabilities close to random (1/10 for each class), so the initial loss should be close to -tf.math.log(1/10) ~= 2.3."
   ]
  },
  {
   "cell_type": "code",
   "execution_count": 8,
   "metadata": {},
   "outputs": [
    {
     "data": {
      "text/plain": [
       "2.1160958"
      ]
     },
     "execution_count": 8,
     "metadata": {},
     "output_type": "execute_result"
    }
   ],
   "source": [
    "loss_fn(y_train[:1], predictions).numpy()"
   ]
  },
  {
   "cell_type": "markdown",
   "metadata": {},
   "source": [
    "Before you start training, configure and compile the model using Keras Model.compile. Set the optimizer class to adam, set the loss to the loss_fn function you defined earlier, and specify a metric to be evaluated for the model by setting the metrics parameter to accuracy."
   ]
  },
  {
   "cell_type": "code",
   "execution_count": 9,
   "metadata": {},
   "outputs": [],
   "source": [
    "model.compile(optimizer='adam',\n",
    "              loss=loss_fn,\n",
    "              metrics=['accuracy'])"
   ]
  },
  {
   "cell_type": "markdown",
   "metadata": {},
   "source": [
    "# Train and evaluate your model"
   ]
  },
  {
   "cell_type": "markdown",
   "metadata": {},
   "source": [
    "Use the Model.fit method to adjust your model parameters and minimize the loss:"
   ]
  },
  {
   "cell_type": "code",
   "execution_count": 16,
   "metadata": {},
   "outputs": [
    {
     "name": "stdout",
     "output_type": "stream",
     "text": [
      "Epoch 1/5\n",
      "1875/1875 [==============================] - 4s 2ms/step - loss: 0.0644 - accuracy: 0.9792\n",
      "Epoch 2/5\n",
      "1875/1875 [==============================] - 4s 2ms/step - loss: 0.0586 - accuracy: 0.9804\n",
      "Epoch 3/5\n",
      "1875/1875 [==============================] - 4s 2ms/step - loss: 0.0514 - accuracy: 0.9830\n",
      "Epoch 4/5\n",
      "1875/1875 [==============================] - 4s 2ms/step - loss: 0.0467 - accuracy: 0.9844\n",
      "Epoch 5/5\n",
      "1875/1875 [==============================] - 4s 2ms/step - loss: 0.0446 - accuracy: 0.9856\n"
     ]
    },
    {
     "data": {
      "text/plain": [
       "<keras.callbacks.History at 0x7fb1681eafd0>"
      ]
     },
     "execution_count": 16,
     "metadata": {},
     "output_type": "execute_result"
    }
   ],
   "source": [
    "model.fit(x_train, y_train, epochs=5)"
   ]
  },
  {
   "cell_type": "markdown",
   "metadata": {},
   "source": [
    "The Model.evaluate method checks the models performance, usually on a \"Validation-set\" or \"Test-set\"."
   ]
  },
  {
   "cell_type": "code",
   "execution_count": 17,
   "metadata": {},
   "outputs": [
    {
     "name": "stdout",
     "output_type": "stream",
     "text": [
      "313/313 - 1s - loss: 0.0731 - accuracy: 0.9789 - 523ms/epoch - 2ms/step\n"
     ]
    },
    {
     "data": {
      "text/plain": [
       "[0.07305692881345749, 0.9789000153541565]"
      ]
     },
     "execution_count": 17,
     "metadata": {},
     "output_type": "execute_result"
    }
   ],
   "source": [
    "model.evaluate(x_test,  y_test, verbose=2)"
   ]
  },
  {
   "cell_type": "markdown",
   "metadata": {},
   "source": [
    "The image classifier is now trained to ~98% accuracy on this dataset. To learn more, read the TensorFlow tutorials.\n",
    "\n",
    "If you want your model to return a probability, you can wrap the trained model, and attach the softmax to it:"
   ]
  },
  {
   "cell_type": "code",
   "execution_count": 28,
   "metadata": {},
   "outputs": [],
   "source": [
    "probability_model = tf.keras.Sequential([\n",
    "  model,\n",
    "  tf.keras.layers.Softmax()\n",
    "])"
   ]
  },
  {
   "cell_type": "code",
   "execution_count": 51,
   "metadata": {},
   "outputs": [
    {
     "data": {
      "application/vnd.jupyter.widget-view+json": {
       "model_id": "715294bdd796417fad4cc8e9a14e078e",
       "version_major": 2,
       "version_minor": 0
      },
      "image/png": "[encoded data removed]",
      "text/html": [
       "\n",
       "            <div style=\"display: inline-block;\">\n",
       "                <div class=\"jupyter-widgets widget-label\" style=\"text-align: center;\">\n",
       "                    Figure 1\n",
       "                </div>\n",
       "                <img src='data:image/png;base64,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' width=640.0/>\n",
       "            </div>\n",
       "        "
      ],
      "text/plain": [
       "Canvas(toolbar=Toolbar(toolitems=[('Home', 'Reset original view', 'home', 'home'), ('Back', 'Back to previous …"
      ]
     },
     "metadata": {},
     "output_type": "display_data"
    }
   ],
   "source": [
    "mnist = tf.keras.datasets.mnist\n",
    "\n",
    "_, (x_test_img, y_test_img) = mnist.load_data()\n",
    "for i in range(9):  \n",
    "    plt.subplot(330 + 1 + i)\n",
    "    plt.imshow(x_test_img[i], cmap=plt.get_cmap('gray'))\n",
    "plt.show()\n",
    "# probability_model(x_test[:5])"
   ]
  },
  {
   "cell_type": "code",
   "execution_count": null,
   "metadata": {},
   "outputs": [],
   "source": []
  },
  {
   "cell_type": "code",
   "execution_count": null,
   "metadata": {},
   "outputs": [],
   "source": []
  }
 ],
 "metadata": {
  "kernelspec": {
   "display_name": "Python 3 (ipykernel)",
   "language": "python",
   "name": "python3"
  },
  "language_info": {
   "codemirror_mode": {
    "name": "ipython",
    "version": 3
   },
   "file_extension": ".py",
   "mimetype": "text/x-python",
   "name": "python",
   "nbconvert_exporter": "python",
   "pygments_lexer": "ipython3",
   "version": "3.8.10"
  },
  "vscode": {
   "interpreter": {
    "hash": "d24bc5af38d243bc60cd8dfaea18da81255264e31b2c2ea3fc2ab4214132a927"
   }
  }
 },
 "nbformat": 4,
 "nbformat_minor": 4
}
